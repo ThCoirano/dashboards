{
 "cells": [
  {
   "cell_type": "code",
   "execution_count": 11,
   "id": "4cc8b92e",
   "metadata": {},
   "outputs": [
    {
     "name": "stdout",
     "output_type": "stream",
     "text": [
      "                   rota_origem            rota_relacionada  qtd_clientes  \\\n",
      "0         Fortaleza → Salvador        Salvador → Fortaleza         17112   \n",
      "1           Fortaleza → Manaus          Manaus → Fortaleza         11038   \n",
      "2     Fortaleza → Porto Alegre    Porto Alegre → Fortaleza         10661   \n",
      "3          Curitiba → Salvador         Salvador → Curitiba         10632   \n",
      "4            Manaus → Salvador           Salvador → Manaus          9684   \n",
      "5      Porto Alegre → Salvador     Salvador → Porto Alegre          5765   \n",
      "6    Rio de Janeiro → Salvador   Salvador → Rio de Janeiro          5655   \n",
      "7    Belo Horizonte → Salvador   Salvador → Belo Horizonte          5654   \n",
      "8            Curitiba → Manaus           Manaus → Curitiba          5535   \n",
      "9         Curitiba → Fortaleza        Fortaleza → Curitiba          5456   \n",
      "10     Manaus → Rio de Janeiro     Rio de Janeiro → Manaus          4897   \n",
      "11   Curitiba → Rio de Janeiro   Rio de Janeiro → Curitiba          4815   \n",
      "12       Manaus → Porto Alegre       Porto Alegre → Manaus          4800   \n",
      "13     Curitiba → Porto Alegre     Porto Alegre → Curitiba          4609   \n",
      "14  Fortaleza → Rio de Janeiro  Rio de Janeiro → Fortaleza          3625   \n",
      "15  Belo Horizonte → Fortaleza  Fortaleza → Belo Horizonte          3620   \n",
      "16          Fortaleza → Recife          Recife → Fortaleza          3537   \n",
      "17     Belo Horizonte → Manaus     Manaus → Belo Horizonte          3502   \n",
      "18       Fortaleza → São Paulo       São Paulo → Fortaleza          3495   \n",
      "19           Recife → Salvador           Salvador → Recife          3440   \n",
      "\n",
      "    pct_associacao  \n",
      "0             32.7  \n",
      "1             23.4  \n",
      "2             25.1  \n",
      "3             26.0  \n",
      "4             32.3  \n",
      "5             33.7  \n",
      "6             41.3  \n",
      "7             20.5  \n",
      "8             20.4  \n",
      "9             19.5  \n",
      "10            32.1  \n",
      "11            21.9  \n",
      "12            24.8  \n",
      "13            18.1  \n",
      "14            20.2  \n",
      "15            16.0  \n",
      "16            20.8  \n",
      "17            16.3  \n",
      "18            23.9  \n",
      "19            35.3  \n"
     ]
    }
   ],
   "source": [
    "import pandas as pd \n",
    "\n",
    "df = pd.read_csv('C:/Users/tcoir/OneDrive/Documentos/work/Fiap/FIAP/clickbus_ml_project/data/pares_clientes_mais_uma_rota.csv', delimiter=';', index_col=False)\n",
    "print(df)\n"
   ]
  }
 ],
 "metadata": {
  "kernelspec": {
   "display_name": "Python 3",
   "language": "python",
   "name": "python3"
  },
  "language_info": {
   "codemirror_mode": {
    "name": "ipython",
    "version": 3
   },
   "file_extension": ".py",
   "mimetype": "text/x-python",
   "name": "python",
   "nbconvert_exporter": "python",
   "pygments_lexer": "ipython3",
   "version": "3.13.5"
  }
 },
 "nbformat": 4,
 "nbformat_minor": 5
}
